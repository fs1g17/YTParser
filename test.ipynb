{
 "cells": [
  {
   "cell_type": "code",
   "execution_count": 2,
   "source": [
    "import os\r\n",
    "import re\r\n",
    "import csv\r\n",
    "import pickle\r\n",
    "import googleapiclient.errors\r\n",
    "import google_auth_oauthlib.flow\r\n",
    "import googleapiclient.discovery\r\n",
    "\r\n",
    "api_version = \"v3\"\r\n",
    "api_service_name = \"youtube\"\r\n",
    "client_secrets_file = \"client_secrets.json\"\r\n",
    "scopes = [\"https://www.googleapis.com/auth/youtube.readonly\"]\r\n",
    "filters = ['vk','music','instagram','tiktok']"
   ],
   "outputs": [],
   "metadata": {}
  },
  {
   "cell_type": "code",
   "execution_count": 3,
   "source": [
    "def get_auth_service():\r\n",
    "    if os.path.exists(\"CREDENTIALS_PICKLE_FILE\"):\r\n",
    "        with open(\"CREDENTIALS_PICKLE_FILE\", 'rb') as f:\r\n",
    "            credentials = pickle.load(f)\r\n",
    "    else:\r\n",
    "        flow = google_auth_oauthlib.flow.InstalledAppFlow.from_client_secrets_file(client_secrets_file, scopes)\r\n",
    "        credentials = flow.run_console()\r\n",
    "        with open(\"CREDENTIALS_PICKLE_FILE\", 'wb') as f:\r\n",
    "            pickle.dump(credentials, f)\r\n",
    "    return googleapiclient.discovery.build(api_service_name, api_version, credentials = credentials)"
   ],
   "outputs": [],
   "metadata": {}
  },
  {
   "cell_type": "code",
   "execution_count": 4,
   "source": [
    "def get_latest_video_description(channel_id):\r\n",
    "    youtube = get_auth_service()\r\n",
    "\r\n",
    "    response = youtube.channels().list(\r\n",
    "        part=\"snippet,contentDetails\",\r\n",
    "        id=channel_id\r\n",
    "    ).execute()\r\n",
    "\r\n",
    "    # get \"uploads\" playlist ID\r\n",
    "    channel = response['items'][0]\r\n",
    "    contentDetails = channel['contentDetails']\r\n",
    "    relatedPlaylists = contentDetails['relatedPlaylists']\r\n",
    "    uploads = relatedPlaylists['uploads']\r\n",
    "    \r\n",
    "    playlist = youtube.playlistItems().list(\r\n",
    "        part=\"snippet,contentDetails\",\r\n",
    "        maxResults=1,\r\n",
    "        playlistId=uploads\r\n",
    "    ).execute()\r\n",
    "\r\n",
    "    videos = playlist['items']\r\n",
    "    latest_video = videos[0]\r\n",
    "    latest_video_description = latest_video['snippet']['description']\r\n",
    "    return latest_video_description"
   ],
   "outputs": [],
   "metadata": {}
  },
  {
   "cell_type": "code",
   "execution_count": 5,
   "source": [
    "def get_links(description):\r\n",
    "    return re.findall(\"(?P<url>https?://[^\\s]+)\", description)"
   ],
   "outputs": [],
   "metadata": {}
  },
  {
   "cell_type": "code",
   "execution_count": 6,
   "source": [
    "def filter_links(links):\r\n",
    "    return [link for link in links if not re.search(\"|\".join([\"(\"+f+\")\" for f in filters]),link)]"
   ],
   "outputs": [],
   "metadata": {}
  },
  {
   "cell_type": "code",
   "execution_count": 1,
   "source": [
    "def parse():\r\n",
    "    opened_file = open('input.csv', encoding=\"UTF-8\")\r\n",
    "    reader = csv.reader(opened_file)\r\n",
    "\r\n",
    "    for row in reader: \r\n",
    "        try:\r\n",
    "            channel_id = row[2]\r\n",
    "            description = get_latest_video_description(channel_id)\r\n",
    "            links = get_links(description)\r\n",
    "            filtered_links = filter_links(links)\r\n",
    "            print(filtered_links)\r\n",
    "        except:\r\n",
    "            print(reader.line_num)"
   ],
   "outputs": [
    {
     "output_type": "stream",
     "name": "stdout",
     "text": [
      "<class '_io.TextIOWrapper'>\n"
     ]
    }
   ],
   "metadata": {}
  },
  {
   "cell_type": "code",
   "execution_count": 12,
   "source": [
    "# this method allows developer to specify the number of videos to get links from\r\n",
    "def get_links_from_videos(channel_id,number_of_videos=1):\r\n",
    "    youtube = get_auth_service()\r\n",
    "\r\n",
    "    response = youtube.channels().list(\r\n",
    "        part=\"snippet,contentDetails\",\r\n",
    "        id=channel_id\r\n",
    "    ).execute()\r\n",
    "\r\n",
    "    # get \"uploads\" playlist ID\r\n",
    "    channel = response['items'][0]\r\n",
    "    contentDetails = channel['contentDetails']\r\n",
    "    relatedPlaylists = contentDetails['relatedPlaylists']\r\n",
    "    uploads = relatedPlaylists['uploads']\r\n",
    "    \r\n",
    "    playlist = youtube.playlistItems().list(\r\n",
    "        part=\"snippet,contentDetails\",\r\n",
    "        maxResults=number_of_videos,\r\n",
    "        playlistId=uploads\r\n",
    "    ).execute()\r\n",
    "\r\n",
    "    videos = playlist['items']\r\n",
    "    all_links = []\r\n",
    "    for i in range(number_of_videos):\r\n",
    "        video_description = videos[i]['snippet']['description']\r\n",
    "        links = get_links(video_description)\r\n",
    "        filtered_links = filter_links(links)\r\n",
    "        all_links += filtered_links\r\n",
    "    #here I return unique links\r\n",
    "    return list(dict.fromkeys(all_links))"
   ],
   "outputs": [],
   "metadata": {}
  },
  {
   "cell_type": "code",
   "execution_count": 14,
   "source": [
    "pewds = 'UC-lHJZR3Gqxm24_Vd_AJ5Yw'\r\n",
    "links = get_links_from_videos(pewds,10)\r\n",
    "\r\n",
    "print(links)"
   ],
   "outputs": [
    {
     "output_type": "stream",
     "name": "stdout",
     "text": [
      "['https://www.youtube.com/channel/UC-lHJZR3Gqxm24_Vd_AJ5Yw/join', 'https://gfuel.ly/31Kargr', 'https://represent.com/store/pewdiepie', 'https://tsuki.market/', 'https://www.based.gg', 'https://pewdiepie.store/', 'https://rhinoshield.io/pewdiepie', 'https://terraria.shop/collections/pewdiepie', 'https://clutchchairz.com/pewdiepie/', 'https://ghostkeyboards.com/pages/pewdiepie', 'https://buff.ly/2pNG0aT', 'https://buff.ly/34C68nZ', 'https://apps.apple.com/us/app/pewdiepies-tuber-simulator/id1093190533', 'https://play.google.com/store/apps/details?id=com.outerminds.tubular&hl=en_GB&gl=US', 'https://youtu.be/FQgLsYOKP8w', 'https://NordVPN.com/pewdiepie', 'https://www.youtube.com/watch?v=CD7UmmLhFR8', 'https://store.steampowered.com/app/979070/Just_Die_Already/', 'https://www.youtube.com/channel/UCepq9z9ovYGxhNrvf6VMSjg', 'https://gfuel.ly/pewdiepie']\n"
     ]
    }
   ],
   "metadata": {}
  },
  {
   "cell_type": "code",
   "execution_count": 6,
   "source": [
    "def perform(func):\r\n",
    "    def inner():\r\n",
    "        x = 6\r\n",
    "        y = 9\r\n",
    "        func(x,y)\r\n",
    "    return inner\r\n",
    "\r\n",
    "@perform\r\n",
    "def add(x,y):\r\n",
    "    z = x+y\r\n",
    "    print(z)\r\n",
    "\r\n",
    "@perform \r\n",
    "def mult(x,y):\r\n",
    "    z = x*y\r\n",
    "    print(z)\r\n",
    "\r\n",
    "add()\r\n",
    "mult()"
   ],
   "outputs": [
    {
     "output_type": "stream",
     "name": "stdout",
     "text": [
      "15\n",
      "54\n"
     ]
    }
   ],
   "metadata": {}
  }
 ],
 "metadata": {
  "interpreter": {
   "hash": "8fd1a732949bac666de67821a41b8e4371419257a7a52e8ed85b6b9845a66f69"
  },
  "kernelspec": {
   "display_name": "Python 3.9.2 64-bit",
   "name": "python3"
  },
  "language_info": {
   "codemirror_mode": {
    "name": "ipython",
    "version": 3
   },
   "file_extension": ".py",
   "mimetype": "text/x-python",
   "name": "python",
   "nbconvert_exporter": "python",
   "pygments_lexer": "ipython3",
   "version": "3.9.2"
  },
  "orig_nbformat": 4
 },
 "nbformat": 4,
 "nbformat_minor": 2
}