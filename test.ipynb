{
 "cells": [
  {
   "cell_type": "code",
   "execution_count": 2,
   "source": [
    "import os\r\n",
    "import re\r\n",
    "import csv\r\n",
    "import pickle\r\n",
    "import googleapiclient.errors\r\n",
    "import google_auth_oauthlib.flow\r\n",
    "import googleapiclient.discovery\r\n",
    "\r\n",
    "api_version = \"v3\"\r\n",
    "api_service_name = \"youtube\"\r\n",
    "client_secrets_file = \"client_secrets.json\"\r\n",
    "scopes = [\"https://www.googleapis.com/auth/youtube.readonly\"]\r\n",
    "filters = ['vk','music','instagram','tiktok']"
   ],
   "outputs": [],
   "metadata": {}
  },
  {
   "cell_type": "code",
   "execution_count": 3,
   "source": [
    "def get_auth_service():\r\n",
    "    cpf = \"DELETE_FILE\"\r\n",
    "    # cpf = \"CREDENTIALS_PICKLE_FILE\"\r\n",
    "    if os.path.exists(cpf):\r\n",
    "        with open(cpf, 'rb') as f:\r\n",
    "            credentials = pickle.load(f)\r\n",
    "    else:\r\n",
    "        flow = google_auth_oauthlib.flow.InstalledAppFlow.from_client_secrets_file(client_secrets_file, scopes, redirect_uri=\"https://localhost:6969/\")\r\n",
    "        auth_url = flow.authorization_url()\r\n",
    "        print(\"URL IS: \", auth_url)\r\n",
    "        credentials = flow.run_console()\r\n",
    "        # credentials = flow.run_local_server(host='localhost',\r\n",
    "        #                                     port=6969, \r\n",
    "        #                                     authorization_prompt_message='Please visit this URL: {url}', \r\n",
    "        #                                     success_message='The auth flow is complete; you may close this window.',\r\n",
    "        #                                     open_browser=True)\r\n",
    "        with open(cpf, 'wb') as f:\r\n",
    "            pickle.dump(credentials, f)\r\n",
    "    return googleapiclient.discovery.build(api_service_name, api_version, credentials = credentials)\r\n",
    "\r\n",
    "# def get_auth_service():\r\n",
    "#     cpf = \"CREDENTIAL_PICKLE_FILE\"\r\n",
    "#     # cpf = \"CREDENTIALS_PICKLE_FILE\"\r\n",
    "#     if os.path.exists(cpf):\r\n",
    "#         with open(cpf, 'rb') as f:\r\n",
    "#             credentials = pickle.load(f)\r\n",
    "#     else:\r\n",
    "#         flow = google_auth_oauthlib.flow.InstalledAppFlow.from_client_secrets_file(client_secrets_file, scopes)\r\n",
    "#         auth_url = google_auth_oauthlib.flow.authorization_url\r\n",
    "#         credentials = flow.run_console()\r\n",
    "#         with open(cpf, 'wb') as f:\r\n",
    "#             pickle.dump(credentials, f)\r\n",
    "#     return googleapiclient.discovery.build(api_service_name, api_version, credentials = credentials)"
   ],
   "outputs": [],
   "metadata": {}
  },
  {
   "cell_type": "code",
   "execution_count": 4,
   "source": [
    "def get_latest_video_description(channel_id):\r\n",
    "    youtube = get_auth_service()\r\n",
    "\r\n",
    "    response = youtube.channels().list(\r\n",
    "        part=\"snippet,contentDetails\",\r\n",
    "        id=channel_id\r\n",
    "    ).execute()\r\n",
    "\r\n",
    "    # get \"uploads\" playlist ID\r\n",
    "    channel = response['items'][0]\r\n",
    "    contentDetails = channel['contentDetails']\r\n",
    "    relatedPlaylists = contentDetails['relatedPlaylists']\r\n",
    "    uploads = relatedPlaylists['uploads']\r\n",
    "    \r\n",
    "    playlist = youtube.playlistItems().list(\r\n",
    "        part=\"snippet,contentDetails\",\r\n",
    "        maxResults=1,\r\n",
    "        playlistId=uploads\r\n",
    "    ).execute()\r\n",
    "\r\n",
    "    videos = playlist['items']\r\n",
    "    latest_video = videos[0]\r\n",
    "    latest_video_description = latest_video['snippet']['description']\r\n",
    "    return latest_video_description\r\n",
    "\r\n",
    "\r\n",
    "\r\n",
    "get_latest_video_description(\"UC-lHJZR3Gqxm24_Vd_AJ5Yw\")"
   ],
   "outputs": [
    {
     "output_type": "stream",
     "name": "stdout",
     "text": [
      "URL IS:  ('https://accounts.google.com/o/oauth2/auth?response_type=code&client_id=598157537762-pc497p39hoqoae4pg70hqcl6qi7obltv.apps.googleusercontent.com&redirect_uri=https%3A%2F%2Flocalhost%3A6969%2F&scope=https%3A%2F%2Fwww.googleapis.com%2Fauth%2Fyoutube.readonly&state=AaZoejiITWsMumTBwFjZwVXQzJEAxX&access_type=offline', 'AaZoejiITWsMumTBwFjZwVXQzJEAxX')\n",
      "Please visit this URL to authorize this application: https://accounts.google.com/o/oauth2/auth?response_type=code&client_id=598157537762-pc497p39hoqoae4pg70hqcl6qi7obltv.apps.googleusercontent.com&redirect_uri=urn%3Aietf%3Awg%3Aoauth%3A2.0%3Aoob&scope=https%3A%2F%2Fwww.googleapis.com%2Fauth%2Fyoutube.readonly&state=yP512L5f3GWqkiTdGGRHXop4Qtc5FY&prompt=consent&access_type=offline\n"
     ]
    },
    {
     "output_type": "error",
     "ename": "ValueError",
     "evalue": "Please supply either code or authorization_response parameters.",
     "traceback": [
      "\u001b[1;31m---------------------------------------------------------------------------\u001b[0m",
      "\u001b[1;31mValueError\u001b[0m                                Traceback (most recent call last)",
      "\u001b[1;32m<ipython-input-4-f90afbacc000>\u001b[0m in \u001b[0;36m<module>\u001b[1;34m\u001b[0m\n\u001b[0;32m     26\u001b[0m \u001b[1;33m\u001b[0m\u001b[0m\n\u001b[0;32m     27\u001b[0m \u001b[1;33m\u001b[0m\u001b[0m\n\u001b[1;32m---> 28\u001b[1;33m \u001b[0mget_latest_video_description\u001b[0m\u001b[1;33m(\u001b[0m\u001b[1;34m\"UC-lHJZR3Gqxm24_Vd_AJ5Yw\"\u001b[0m\u001b[1;33m)\u001b[0m\u001b[1;33m\u001b[0m\u001b[1;33m\u001b[0m\u001b[0m\n\u001b[0m",
      "\u001b[1;32m<ipython-input-4-f90afbacc000>\u001b[0m in \u001b[0;36mget_latest_video_description\u001b[1;34m(channel_id)\u001b[0m\n\u001b[0;32m      1\u001b[0m \u001b[1;32mdef\u001b[0m \u001b[0mget_latest_video_description\u001b[0m\u001b[1;33m(\u001b[0m\u001b[0mchannel_id\u001b[0m\u001b[1;33m)\u001b[0m\u001b[1;33m:\u001b[0m\u001b[1;33m\u001b[0m\u001b[1;33m\u001b[0m\u001b[0m\n\u001b[1;32m----> 2\u001b[1;33m     \u001b[0myoutube\u001b[0m \u001b[1;33m=\u001b[0m \u001b[0mget_auth_service\u001b[0m\u001b[1;33m(\u001b[0m\u001b[1;33m)\u001b[0m\u001b[1;33m\u001b[0m\u001b[1;33m\u001b[0m\u001b[0m\n\u001b[0m\u001b[0;32m      3\u001b[0m \u001b[1;33m\u001b[0m\u001b[0m\n\u001b[0;32m      4\u001b[0m     response = youtube.channels().list(\n\u001b[0;32m      5\u001b[0m         \u001b[0mpart\u001b[0m\u001b[1;33m=\u001b[0m\u001b[1;34m\"snippet,contentDetails\"\u001b[0m\u001b[1;33m,\u001b[0m\u001b[1;33m\u001b[0m\u001b[1;33m\u001b[0m\u001b[0m\n",
      "\u001b[1;32m<ipython-input-3-5b46710b393f>\u001b[0m in \u001b[0;36mget_auth_service\u001b[1;34m()\u001b[0m\n\u001b[0;32m      9\u001b[0m         \u001b[0mauth_url\u001b[0m \u001b[1;33m=\u001b[0m \u001b[0mflow\u001b[0m\u001b[1;33m.\u001b[0m\u001b[0mauthorization_url\u001b[0m\u001b[1;33m(\u001b[0m\u001b[1;33m)\u001b[0m\u001b[1;33m\u001b[0m\u001b[1;33m\u001b[0m\u001b[0m\n\u001b[0;32m     10\u001b[0m         \u001b[0mprint\u001b[0m\u001b[1;33m(\u001b[0m\u001b[1;34m\"URL IS: \"\u001b[0m\u001b[1;33m,\u001b[0m \u001b[0mauth_url\u001b[0m\u001b[1;33m)\u001b[0m\u001b[1;33m\u001b[0m\u001b[1;33m\u001b[0m\u001b[0m\n\u001b[1;32m---> 11\u001b[1;33m         \u001b[0mcredentials\u001b[0m \u001b[1;33m=\u001b[0m \u001b[0mflow\u001b[0m\u001b[1;33m.\u001b[0m\u001b[0mrun_console\u001b[0m\u001b[1;33m(\u001b[0m\u001b[1;33m)\u001b[0m\u001b[1;33m\u001b[0m\u001b[1;33m\u001b[0m\u001b[0m\n\u001b[0m\u001b[0;32m     12\u001b[0m         \u001b[1;31m# credentials = flow.run_local_server(host='localhost',\u001b[0m\u001b[1;33m\u001b[0m\u001b[1;33m\u001b[0m\u001b[1;33m\u001b[0m\u001b[0m\n\u001b[0;32m     13\u001b[0m         \u001b[1;31m#                                     port=6969,\u001b[0m\u001b[1;33m\u001b[0m\u001b[1;33m\u001b[0m\u001b[1;33m\u001b[0m\u001b[0m\n",
      "\u001b[1;32m~\\AppData\\Local\\Programs\\Python\\Python39\\lib\\site-packages\\google_auth_oauthlib\\flow.py\u001b[0m in \u001b[0;36mrun_console\u001b[1;34m(self, authorization_prompt_message, authorization_code_message, **kwargs)\u001b[0m\n\u001b[0;32m    412\u001b[0m         \u001b[0mcode\u001b[0m \u001b[1;33m=\u001b[0m \u001b[0minput\u001b[0m\u001b[1;33m(\u001b[0m\u001b[0mauthorization_code_message\u001b[0m\u001b[1;33m)\u001b[0m\u001b[1;33m\u001b[0m\u001b[1;33m\u001b[0m\u001b[0m\n\u001b[0;32m    413\u001b[0m \u001b[1;33m\u001b[0m\u001b[0m\n\u001b[1;32m--> 414\u001b[1;33m         \u001b[0mself\u001b[0m\u001b[1;33m.\u001b[0m\u001b[0mfetch_token\u001b[0m\u001b[1;33m(\u001b[0m\u001b[0mcode\u001b[0m\u001b[1;33m=\u001b[0m\u001b[0mcode\u001b[0m\u001b[1;33m)\u001b[0m\u001b[1;33m\u001b[0m\u001b[1;33m\u001b[0m\u001b[0m\n\u001b[0m\u001b[0;32m    415\u001b[0m \u001b[1;33m\u001b[0m\u001b[0m\n\u001b[0;32m    416\u001b[0m         \u001b[1;32mreturn\u001b[0m \u001b[0mself\u001b[0m\u001b[1;33m.\u001b[0m\u001b[0mcredentials\u001b[0m\u001b[1;33m\u001b[0m\u001b[1;33m\u001b[0m\u001b[0m\n",
      "\u001b[1;32m~\\AppData\\Local\\Programs\\Python\\Python39\\lib\\site-packages\\google_auth_oauthlib\\flow.py\u001b[0m in \u001b[0;36mfetch_token\u001b[1;34m(self, **kwargs)\u001b[0m\n\u001b[0;32m    286\u001b[0m         \u001b[0mkwargs\u001b[0m\u001b[1;33m.\u001b[0m\u001b[0msetdefault\u001b[0m\u001b[1;33m(\u001b[0m\u001b[1;34m\"client_secret\"\u001b[0m\u001b[1;33m,\u001b[0m \u001b[0mself\u001b[0m\u001b[1;33m.\u001b[0m\u001b[0mclient_config\u001b[0m\u001b[1;33m[\u001b[0m\u001b[1;34m\"client_secret\"\u001b[0m\u001b[1;33m]\u001b[0m\u001b[1;33m)\u001b[0m\u001b[1;33m\u001b[0m\u001b[1;33m\u001b[0m\u001b[0m\n\u001b[0;32m    287\u001b[0m         \u001b[0mkwargs\u001b[0m\u001b[1;33m.\u001b[0m\u001b[0msetdefault\u001b[0m\u001b[1;33m(\u001b[0m\u001b[1;34m\"code_verifier\"\u001b[0m\u001b[1;33m,\u001b[0m \u001b[0mself\u001b[0m\u001b[1;33m.\u001b[0m\u001b[0mcode_verifier\u001b[0m\u001b[1;33m)\u001b[0m\u001b[1;33m\u001b[0m\u001b[1;33m\u001b[0m\u001b[0m\n\u001b[1;32m--> 288\u001b[1;33m         \u001b[1;32mreturn\u001b[0m \u001b[0mself\u001b[0m\u001b[1;33m.\u001b[0m\u001b[0moauth2session\u001b[0m\u001b[1;33m.\u001b[0m\u001b[0mfetch_token\u001b[0m\u001b[1;33m(\u001b[0m\u001b[0mself\u001b[0m\u001b[1;33m.\u001b[0m\u001b[0mclient_config\u001b[0m\u001b[1;33m[\u001b[0m\u001b[1;34m\"token_uri\"\u001b[0m\u001b[1;33m]\u001b[0m\u001b[1;33m,\u001b[0m \u001b[1;33m**\u001b[0m\u001b[0mkwargs\u001b[0m\u001b[1;33m)\u001b[0m\u001b[1;33m\u001b[0m\u001b[1;33m\u001b[0m\u001b[0m\n\u001b[0m\u001b[0;32m    289\u001b[0m \u001b[1;33m\u001b[0m\u001b[0m\n\u001b[0;32m    290\u001b[0m     \u001b[1;33m@\u001b[0m\u001b[0mproperty\u001b[0m\u001b[1;33m\u001b[0m\u001b[1;33m\u001b[0m\u001b[0m\n",
      "\u001b[1;32m~\\AppData\\Local\\Programs\\Python\\Python39\\lib\\site-packages\\requests_oauthlib\\oauth2_session.py\u001b[0m in \u001b[0;36mfetch_token\u001b[1;34m(self, token_url, code, authorization_response, body, auth, username, password, method, force_querystring, timeout, headers, verify, proxies, include_client_id, client_secret, **kwargs)\u001b[0m\n\u001b[0;32m    244\u001b[0m             \u001b[0mcode\u001b[0m \u001b[1;33m=\u001b[0m \u001b[0mself\u001b[0m\u001b[1;33m.\u001b[0m\u001b[0m_client\u001b[0m\u001b[1;33m.\u001b[0m\u001b[0mcode\u001b[0m\u001b[1;33m\u001b[0m\u001b[1;33m\u001b[0m\u001b[0m\n\u001b[0;32m    245\u001b[0m             \u001b[1;32mif\u001b[0m \u001b[1;32mnot\u001b[0m \u001b[0mcode\u001b[0m\u001b[1;33m:\u001b[0m\u001b[1;33m\u001b[0m\u001b[1;33m\u001b[0m\u001b[0m\n\u001b[1;32m--> 246\u001b[1;33m                 raise ValueError(\n\u001b[0m\u001b[0;32m    247\u001b[0m                     \u001b[1;34m\"Please supply either code or \"\u001b[0m \u001b[1;34m\"authorization_response parameters.\"\u001b[0m\u001b[1;33m\u001b[0m\u001b[1;33m\u001b[0m\u001b[0m\n\u001b[0;32m    248\u001b[0m                 )\n",
      "\u001b[1;31mValueError\u001b[0m: Please supply either code or authorization_response parameters."
     ]
    }
   ],
   "metadata": {}
  },
  {
   "cell_type": "code",
   "execution_count": null,
   "source": [
    "def get_links(description):\r\n",
    "    return re.findall(\"(?P<url>https?://[^\\s]+)\", description)"
   ],
   "outputs": [],
   "metadata": {}
  },
  {
   "cell_type": "code",
   "execution_count": null,
   "source": [
    "def filter_links(links):\r\n",
    "    return [link for link in links if not re.search(\"|\".join([\"(\"+f+\")\" for f in filters]),link)]"
   ],
   "outputs": [],
   "metadata": {}
  },
  {
   "cell_type": "code",
   "execution_count": null,
   "source": [
    "def parse():\r\n",
    "    opened_file = open('input.csv', encoding=\"UTF-8\")\r\n",
    "    reader = csv.reader(opened_file)\r\n",
    "\r\n",
    "    for row in reader: \r\n",
    "        try:\r\n",
    "            channel_id = row[2]\r\n",
    "            description = get_latest_video_description(channel_id)\r\n",
    "            links = get_links(description)\r\n",
    "            filtered_links = filter_links(links)\r\n",
    "            print(filtered_links)\r\n",
    "        except:\r\n",
    "            print(reader.line_num)"
   ],
   "outputs": [],
   "metadata": {}
  },
  {
   "cell_type": "code",
   "execution_count": null,
   "source": [
    "# this method allows developer to specify the number of videos to get links from\r\n",
    "def get_links_from_videos(channel_id,number_of_videos=1):\r\n",
    "    youtube = get_auth_service()\r\n",
    "\r\n",
    "    response = youtube.channels().list(\r\n",
    "        part=\"snippet,contentDetails\",\r\n",
    "        id=channel_id\r\n",
    "    ).execute()\r\n",
    "\r\n",
    "    # get \"uploads\" playlist ID\r\n",
    "    channel = response['items'][0]\r\n",
    "    contentDetails = channel['contentDetails']\r\n",
    "    relatedPlaylists = contentDetails['relatedPlaylists']\r\n",
    "    uploads = relatedPlaylists['uploads']\r\n",
    "    \r\n",
    "    playlist = youtube.playlistItems().list(\r\n",
    "        part=\"snippet,contentDetails\",\r\n",
    "        maxResults=number_of_videos,\r\n",
    "        playlistId=uploads\r\n",
    "    ).execute()\r\n",
    "\r\n",
    "    videos = playlist['items']\r\n",
    "    all_links = []\r\n",
    "    for i in range(number_of_videos):\r\n",
    "        video_description = videos[i]['snippet']['description']\r\n",
    "        links = get_links(video_description)\r\n",
    "        filtered_links = filter_links(links)\r\n",
    "        all_links += filtered_links\r\n",
    "    #here I return unique links\r\n",
    "    return list(dict.fromkeys(all_links))"
   ],
   "outputs": [],
   "metadata": {}
  },
  {
   "cell_type": "code",
   "execution_count": null,
   "source": [
    "pewds = 'UC-lHJZR3Gqxm24_Vd_AJ5Yw'\r\n",
    "links = get_links_from_videos(pewds,10)\r\n",
    "\r\n",
    "print(links)"
   ],
   "outputs": [
    {
     "output_type": "stream",
     "name": "stdout",
     "text": [
      "['https://www.youtube.com/channel/UC-lHJZR3Gqxm24_Vd_AJ5Yw/join', 'https://gfuel.ly/31Kargr', 'https://represent.com/store/pewdiepie', 'https://tsuki.market/', 'https://www.based.gg', 'https://pewdiepie.store/', 'https://rhinoshield.io/pewdiepie', 'https://terraria.shop/collections/pewdiepie', 'https://clutchchairz.com/pewdiepie/', 'https://ghostkeyboards.com/pages/pewdiepie', 'https://buff.ly/2pNG0aT', 'https://buff.ly/34C68nZ', 'https://apps.apple.com/us/app/pewdiepies-tuber-simulator/id1093190533', 'https://play.google.com/store/apps/details?id=com.outerminds.tubular&hl=en_GB&gl=US', 'https://youtu.be/FQgLsYOKP8w', 'https://NordVPN.com/pewdiepie', 'https://www.youtube.com/watch?v=CD7UmmLhFR8', 'https://store.steampowered.com/app/979070/Just_Die_Already/', 'https://www.youtube.com/channel/UCepq9z9ovYGxhNrvf6VMSjg', 'https://gfuel.ly/pewdiepie']\n"
     ]
    }
   ],
   "metadata": {}
  },
  {
   "cell_type": "code",
   "execution_count": null,
   "source": [
    "def perform(func):\r\n",
    "    def inner():\r\n",
    "        x = 6\r\n",
    "        y = 9\r\n",
    "        func(x,y)\r\n",
    "    return inner\r\n",
    "\r\n",
    "@perform\r\n",
    "def add(x,y):\r\n",
    "    z = x+y\r\n",
    "    print(z)\r\n",
    "\r\n",
    "@perform \r\n",
    "def mult(x,y):\r\n",
    "    z = x*y\r\n",
    "    print(z)\r\n",
    "\r\n",
    "add()\r\n",
    "mult()"
   ],
   "outputs": [
    {
     "output_type": "stream",
     "name": "stdout",
     "text": [
      "15\n",
      "54\n"
     ]
    }
   ],
   "metadata": {}
  },
  {
   "cell_type": "code",
   "execution_count": 7,
   "source": [
    "# returns link for user to follow\r\n",
    "def get_auth_service_link():\r\n",
    "    flow = google_auth_oauthlib.flow.InstalledAppFlow.from_client_secrets_file(client_secrets_file, scopes, redirect_uri=\"urn:ietf:wg:oauth:2.0:oob\")\r\n",
    "    url = flow.authorization_url()\r\n",
    "    print(url)\r\n",
    "get_auth_service_link()"
   ],
   "outputs": [
    {
     "output_type": "stream",
     "name": "stdout",
     "text": [
      "('https://accounts.google.com/o/oauth2/auth?response_type=code&client_id=598157537762-pc497p39hoqoae4pg70hqcl6qi7obltv.apps.googleusercontent.com&redirect_uri=urn%3Aietf%3Awg%3Aoauth%3A2.0%3Aoob&scope=https%3A%2F%2Fwww.googleapis.com%2Fauth%2Fyoutube.readonly&state=aXhq5XJvtdqtDRlR8lXbz10jcz84OV&access_type=offline', 'aXhq5XJvtdqtDRlR8lXbz10jcz84OV')\n"
     ]
    }
   ],
   "metadata": {}
  },
  {
   "cell_type": "code",
   "execution_count": 11,
   "source": [
    "# returns link for user to follow\r\n",
    "flow = google_auth_oauthlib.flow.InstalledAppFlow.from_client_secrets_file(client_secrets_file, scopes, redirect_uri=\"urn:ietf:wg:oauth:2.0:oob\")\r\n",
    "\r\n",
    "def get_auth_service_link():\r\n",
    "    url = flow.authorization_url()\r\n",
    "    print(url)\r\n",
    "get_auth_service_link()\r\n",
    "\r\n",
    "def authorize(code):\r\n",
    "    flow.fetch_token(code=code)\r\n",
    "    credentials = flow.credentials\r\n",
    "    print(\"success!\")"
   ],
   "outputs": [
    {
     "output_type": "stream",
     "name": "stdout",
     "text": [
      "('https://accounts.google.com/o/oauth2/auth?response_type=code&client_id=598157537762-pc497p39hoqoae4pg70hqcl6qi7obltv.apps.googleusercontent.com&redirect_uri=urn%3Aietf%3Awg%3Aoauth%3A2.0%3Aoob&scope=https%3A%2F%2Fwww.googleapis.com%2Fauth%2Fyoutube.readonly&state=MztNP4WqOTpFnEDqgVIkhCA3z6icAM&access_type=offline', 'MztNP4WqOTpFnEDqgVIkhCA3z6icAM')\n"
     ]
    }
   ],
   "metadata": {}
  },
  {
   "cell_type": "code",
   "execution_count": 12,
   "source": [
    "authorize(\"4/1AX4XfWjB2uk907uckUoLwF_6dcoevBCQMGo2WekLq8d5FykTITFtI5hhdtk\")"
   ],
   "outputs": [
    {
     "output_type": "stream",
     "name": "stdout",
     "text": [
      "success!\n"
     ]
    }
   ],
   "metadata": {}
  },
  {
   "cell_type": "code",
   "execution_count": 3,
   "source": [
    "def m1():\r\n",
    "    flow = google_auth_oauthlib.flow.InstalledAppFlow.from_client_secrets_file(client_secrets_file, scopes, redirect_uri=\"urn:ietf:wg:oauth:2.0:oob\")\r\n",
    "    url = flow.authorization_url()\r\n",
    "    print(url)\r\n",
    "\r\n",
    "def m2(code):\r\n",
    "    flow = google_auth_oauthlib.flow.InstalledAppFlow.from_client_secrets_file(client_secrets_file, scopes, redirect_uri=\"urn:ietf:wg:oauth:2.0:oob\")\r\n",
    "    flow.fetch_token(code=code)\r\n",
    "    credentials = flow.credentials\r\n",
    "    print(\"success!\")\r\n",
    "\r\n",
    "m1()"
   ],
   "outputs": [
    {
     "output_type": "stream",
     "name": "stdout",
     "text": [
      "('https://accounts.google.com/o/oauth2/auth?response_type=code&client_id=598157537762-pc497p39hoqoae4pg70hqcl6qi7obltv.apps.googleusercontent.com&redirect_uri=urn%3Aietf%3Awg%3Aoauth%3A2.0%3Aoob&scope=https%3A%2F%2Fwww.googleapis.com%2Fauth%2Fyoutube.readonly&state=DVqEzS8SBqdguLIKALFEnty1UrsKdY&access_type=offline', 'DVqEzS8SBqdguLIKALFEnty1UrsKdY')\n"
     ]
    }
   ],
   "metadata": {}
  },
  {
   "cell_type": "code",
   "execution_count": 4,
   "source": [
    "m2(\"4/1AX4XfWh-BKImKTzBZozgssp75Cnjv1Y8WRDb0I60Mb-Y9gyS6Mshd6MU2zQ\")"
   ],
   "outputs": [
    {
     "output_type": "stream",
     "name": "stdout",
     "text": [
      "success!\n"
     ]
    }
   ],
   "metadata": {}
  }
 ],
 "metadata": {
  "interpreter": {
   "hash": "8fd1a732949bac666de67821a41b8e4371419257a7a52e8ed85b6b9845a66f69"
  },
  "kernelspec": {
   "display_name": "Python 3.9.2 64-bit",
   "name": "python3"
  },
  "language_info": {
   "codemirror_mode": {
    "name": "ipython",
    "version": 3
   },
   "file_extension": ".py",
   "mimetype": "text/x-python",
   "name": "python",
   "nbconvert_exporter": "python",
   "pygments_lexer": "ipython3",
   "version": "3.9.2"
  },
  "orig_nbformat": 4
 },
 "nbformat": 4,
 "nbformat_minor": 2
}