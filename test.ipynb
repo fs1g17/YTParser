{
 "cells": [
  {
   "cell_type": "code",
   "execution_count": 4,
   "source": [
    "import os\r\n",
    "import re\r\n",
    "import csv\r\n",
    "import pickle\r\n",
    "import googleapiclient.errors\r\n",
    "import google_auth_oauthlib.flow\r\n",
    "import googleapiclient.discovery\r\n",
    "\r\n",
    "api_version = \"v3\"\r\n",
    "api_service_name = \"youtube\"\r\n",
    "client_secrets_file = \"client_secrets.json\"\r\n",
    "scopes = [\"https://www.googleapis.com/auth/youtube.readonly\"]\r\n",
    "filters = ['vk','music','instagram','tiktok']"
   ],
   "outputs": [],
   "metadata": {}
  },
  {
   "cell_type": "code",
   "execution_count": 25,
   "source": [
    "def get_auth_service():\r\n",
    "    cpf = \"DELETE_FILE\"\r\n",
    "    # cpf = \"CREDENTIALS_PICKLE_FILE\"\r\n",
    "    if os.path.exists(cpf):\r\n",
    "        with open(cpf, 'rb') as f:\r\n",
    "            credentials = pickle.load(f)\r\n",
    "    else:\r\n",
    "        flow = google_auth_oauthlib.flow.InstalledAppFlow.from_client_secrets_file(client_secrets_file, scopes)\r\n",
    "        auth_url = flow.authorization_url()\r\n",
    "        print(\"URL IS: \", auth_url)\r\n",
    "        #credentials = flow.run_console()\r\n",
    "        credentials = flow.run_local_server(host='localhost',\r\n",
    "                                            port=6969, \r\n",
    "                                            authorization_prompt_message='Please visit this URL: {url}', \r\n",
    "                                            success_message='The auth flow is complete; you may close this window.',\r\n",
    "                                            open_browser=True)\r\n",
    "        with open(cpf, 'wb') as f:\r\n",
    "            pickle.dump(credentials, f)\r\n",
    "    return googleapiclient.discovery.build(api_service_name, api_version, credentials = credentials)\r\n",
    "\r\n",
    "# def get_auth_service():\r\n",
    "#     cpf = \"CREDENTIAL_PICKLE_FILE\"\r\n",
    "#     # cpf = \"CREDENTIALS_PICKLE_FILE\"\r\n",
    "#     if os.path.exists(cpf):\r\n",
    "#         with open(cpf, 'rb') as f:\r\n",
    "#             credentials = pickle.load(f)\r\n",
    "#     else:\r\n",
    "#         flow = google_auth_oauthlib.flow.InstalledAppFlow.from_client_secrets_file(client_secrets_file, scopes)\r\n",
    "#         auth_url = google_auth_oauthlib.flow.authorization_url\r\n",
    "#         credentials = flow.run_console()\r\n",
    "#         with open(cpf, 'wb') as f:\r\n",
    "#             pickle.dump(credentials, f)\r\n",
    "#     return googleapiclient.discovery.build(api_service_name, api_version, credentials = credentials)"
   ],
   "outputs": [],
   "metadata": {}
  },
  {
   "cell_type": "code",
   "execution_count": 26,
   "source": [
    "def get_latest_video_description(channel_id):\r\n",
    "    youtube = get_auth_service()\r\n",
    "\r\n",
    "    response = youtube.channels().list(\r\n",
    "        part=\"snippet,contentDetails\",\r\n",
    "        id=channel_id\r\n",
    "    ).execute()\r\n",
    "\r\n",
    "    # get \"uploads\" playlist ID\r\n",
    "    channel = response['items'][0]\r\n",
    "    contentDetails = channel['contentDetails']\r\n",
    "    relatedPlaylists = contentDetails['relatedPlaylists']\r\n",
    "    uploads = relatedPlaylists['uploads']\r\n",
    "    \r\n",
    "    playlist = youtube.playlistItems().list(\r\n",
    "        part=\"snippet,contentDetails\",\r\n",
    "        maxResults=1,\r\n",
    "        playlistId=uploads\r\n",
    "    ).execute()\r\n",
    "\r\n",
    "    videos = playlist['items']\r\n",
    "    latest_video = videos[0]\r\n",
    "    latest_video_description = latest_video['snippet']['description']\r\n",
    "    return latest_video_description\r\n",
    "\r\n",
    "\r\n",
    "\r\n",
    "get_latest_video_description(\"UC-lHJZR3Gqxm24_Vd_AJ5Yw\")"
   ],
   "outputs": [
    {
     "output_type": "stream",
     "name": "stdout",
     "text": [
      "URL IS:  ('https://accounts.google.com/o/oauth2/auth?response_type=code&client_id=598157537762-pc497p39hoqoae4pg70hqcl6qi7obltv.apps.googleusercontent.com&scope=https%3A%2F%2Fwww.googleapis.com%2Fauth%2Fyoutube.readonly&state=Tt5KpCJWOOlqwcRBN5mSw7bxBB5IIy&access_type=offline', 'Tt5KpCJWOOlqwcRBN5mSw7bxBB5IIy')\n",
      "Please visit this URL: https://accounts.google.com/o/oauth2/auth?response_type=code&client_id=598157537762-pc497p39hoqoae4pg70hqcl6qi7obltv.apps.googleusercontent.com&redirect_uri=http%3A%2F%2Flocalhost%3A6969%2F&scope=https%3A%2F%2Fwww.googleapis.com%2Fauth%2Fyoutube.readonly&state=bRwFEqGUlVx8Yl0OLp2OgM1ommyPcf&access_type=offline\n"
     ]
    },
    {
     "output_type": "execute_result",
     "data": {
      "text/plain": [
       "\"🧎Subscribe to become a FLOOR GANG Member here: 👉https://www.youtube.com/channel/UC-lHJZR3Gqxm24_Vd_AJ5Yw/join\\nGet exclusive epic pewdiepie inside epic access and large 🅿️🅿️!\\n\\n🥤PewDiePie Gfuel(affiliate link): https://gfuel.ly/31Kargr\\n#CodePewdiepie\\n\\n✨My Stores✨\\n👕 Merch: https://represent.com/store/pewdiepie\\n👘 Tsuki: https://tsuki.market/\\n👔 Based: https://www.based.gg\\n🗿 100M Figurine: https://pewdiepie.store/\\n📱Customized Devices: https://rhinoshield.io/pewdiepie\\n👕 Terraria Collab: https://terraria.shop/collections/pewdiepie\\n\\n\\n⚙️My Setup (affiliate link)⚙️\\n🪑 Chair: https://clutchchairz.com/pewdiepie/\\n⌨️ Keyboard: https://ghostkeyboards.com/pages/pewdiepie\\n🖱️ Mouse: https://ghostkeyboards.com/pages/pewdiepie\\n\\n🕹️ Pewdiepie's Pixelings\\niOS: https://buff.ly/2pNG0aT\\nAndroid: https://buff.ly/34C68nZ\\n#pewdiepie #pixelings\\n\\n🕹️Pewdiepie’s Tuber Simulator\\niOS: https://apps.apple.com/us/app/pewdiepies-tuber-simulator/id1093190533\\nAndroid: https://play.google.com/store/apps/details?id=com.outerminds.tubular&hl=en_GB&gl=US\\n\\n🎮Arkade Blaster Controller: https://youtu.be/FQgLsYOKP8w Arkade Blaster Pro! #ad\\n\\n⛰️NordVPN DOWNLOAD (affiliate link)⛰️\\nGo to https://NordVPN.com/pewdiepie and use code PEWDIEPIE to get a 2-year plan plus 1 additional month with a huge discount. It’s risk free with Nord’s 30 day money-back guarantee!\""
      ]
     },
     "metadata": {},
     "execution_count": 26
    }
   ],
   "metadata": {}
  },
  {
   "cell_type": "code",
   "execution_count": 7,
   "source": [
    "def get_links(description):\r\n",
    "    return re.findall(\"(?P<url>https?://[^\\s]+)\", description)"
   ],
   "outputs": [],
   "metadata": {}
  },
  {
   "cell_type": "code",
   "execution_count": 8,
   "source": [
    "def filter_links(links):\r\n",
    "    return [link for link in links if not re.search(\"|\".join([\"(\"+f+\")\" for f in filters]),link)]"
   ],
   "outputs": [],
   "metadata": {}
  },
  {
   "cell_type": "code",
   "execution_count": 9,
   "source": [
    "def parse():\r\n",
    "    opened_file = open('input.csv', encoding=\"UTF-8\")\r\n",
    "    reader = csv.reader(opened_file)\r\n",
    "\r\n",
    "    for row in reader: \r\n",
    "        try:\r\n",
    "            channel_id = row[2]\r\n",
    "            description = get_latest_video_description(channel_id)\r\n",
    "            links = get_links(description)\r\n",
    "            filtered_links = filter_links(links)\r\n",
    "            print(filtered_links)\r\n",
    "        except:\r\n",
    "            print(reader.line_num)"
   ],
   "outputs": [],
   "metadata": {}
  },
  {
   "cell_type": "code",
   "execution_count": 10,
   "source": [
    "# this method allows developer to specify the number of videos to get links from\r\n",
    "def get_links_from_videos(channel_id,number_of_videos=1):\r\n",
    "    youtube = get_auth_service()\r\n",
    "\r\n",
    "    response = youtube.channels().list(\r\n",
    "        part=\"snippet,contentDetails\",\r\n",
    "        id=channel_id\r\n",
    "    ).execute()\r\n",
    "\r\n",
    "    # get \"uploads\" playlist ID\r\n",
    "    channel = response['items'][0]\r\n",
    "    contentDetails = channel['contentDetails']\r\n",
    "    relatedPlaylists = contentDetails['relatedPlaylists']\r\n",
    "    uploads = relatedPlaylists['uploads']\r\n",
    "    \r\n",
    "    playlist = youtube.playlistItems().list(\r\n",
    "        part=\"snippet,contentDetails\",\r\n",
    "        maxResults=number_of_videos,\r\n",
    "        playlistId=uploads\r\n",
    "    ).execute()\r\n",
    "\r\n",
    "    videos = playlist['items']\r\n",
    "    all_links = []\r\n",
    "    for i in range(number_of_videos):\r\n",
    "        video_description = videos[i]['snippet']['description']\r\n",
    "        links = get_links(video_description)\r\n",
    "        filtered_links = filter_links(links)\r\n",
    "        all_links += filtered_links\r\n",
    "    #here I return unique links\r\n",
    "    return list(dict.fromkeys(all_links))"
   ],
   "outputs": [],
   "metadata": {}
  },
  {
   "cell_type": "code",
   "execution_count": 11,
   "source": [
    "pewds = 'UC-lHJZR3Gqxm24_Vd_AJ5Yw'\r\n",
    "links = get_links_from_videos(pewds,10)\r\n",
    "\r\n",
    "print(links)"
   ],
   "outputs": [
    {
     "output_type": "stream",
     "name": "stdout",
     "text": [
      "['https://www.youtube.com/channel/UC-lHJZR3Gqxm24_Vd_AJ5Yw/join', 'https://gfuel.ly/31Kargr', 'https://represent.com/store/pewdiepie', 'https://tsuki.market/', 'https://www.based.gg', 'https://pewdiepie.store/', 'https://rhinoshield.io/pewdiepie', 'https://terraria.shop/collections/pewdiepie', 'https://clutchchairz.com/pewdiepie/', 'https://ghostkeyboards.com/pages/pewdiepie', 'https://buff.ly/2pNG0aT', 'https://buff.ly/34C68nZ', 'https://apps.apple.com/us/app/pewdiepies-tuber-simulator/id1093190533', 'https://play.google.com/store/apps/details?id=com.outerminds.tubular&hl=en_GB&gl=US', 'https://youtu.be/FQgLsYOKP8w', 'https://NordVPN.com/pewdiepie', 'https://www.youtube.com/watch?v=CD7UmmLhFR8', 'https://store.steampowered.com/app/979070/Just_Die_Already/', 'https://www.youtube.com/channel/UCepq9z9ovYGxhNrvf6VMSjg', 'https://gfuel.ly/pewdiepie']\n"
     ]
    }
   ],
   "metadata": {}
  },
  {
   "cell_type": "code",
   "execution_count": 12,
   "source": [
    "def perform(func):\r\n",
    "    def inner():\r\n",
    "        x = 6\r\n",
    "        y = 9\r\n",
    "        func(x,y)\r\n",
    "    return inner\r\n",
    "\r\n",
    "@perform\r\n",
    "def add(x,y):\r\n",
    "    z = x+y\r\n",
    "    print(z)\r\n",
    "\r\n",
    "@perform \r\n",
    "def mult(x,y):\r\n",
    "    z = x*y\r\n",
    "    print(z)\r\n",
    "\r\n",
    "add()\r\n",
    "mult()"
   ],
   "outputs": [
    {
     "output_type": "stream",
     "name": "stdout",
     "text": [
      "15\n",
      "54\n"
     ]
    }
   ],
   "metadata": {}
  }
 ],
 "metadata": {
  "interpreter": {
   "hash": "8fd1a732949bac666de67821a41b8e4371419257a7a52e8ed85b6b9845a66f69"
  },
  "kernelspec": {
   "display_name": "Python 3.9.2 64-bit",
   "name": "python3"
  },
  "language_info": {
   "codemirror_mode": {
    "name": "ipython",
    "version": 3
   },
   "file_extension": ".py",
   "mimetype": "text/x-python",
   "name": "python",
   "nbconvert_exporter": "python",
   "pygments_lexer": "ipython3",
   "version": "3.9.2"
  },
  "orig_nbformat": 4
 },
 "nbformat": 4,
 "nbformat_minor": 2
}